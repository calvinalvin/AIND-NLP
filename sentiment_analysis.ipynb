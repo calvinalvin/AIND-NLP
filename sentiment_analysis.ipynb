{
 "cells": [
  {
   "cell_type": "markdown",
   "metadata": {},
   "source": [
    "# Sentiment Analysis\n",
    "\n",
    "_Artificial Intelligence Nanodegree Program | Natural Language Processing_\n",
    "\n",
    "---\n",
    "\n",
    "With the rise of online social media platforms like Twitter, Facebook and Reddit, and the proliferation of customer reviews on sites like Amazon and Yelp, we now have access, more than ever before, to massive text-based data sets! They can be analyzed in order to determine how large portions of the population feel about certain products, events, etc. This sort of analysis is called _sentiment analysis_. In this notebook you will build an end-to-end sentiment classification system from scratch.\n",
    "\n",
    "## Instructions\n",
    "\n",
    "Some template code has already been provided for you, and you will need to implement additional functionality to successfully complete this notebook. You will not need to modify the included code beyond what is requested. Sections that begin with '**TODO**' in the header indicate that you need to complete or implement some portion within them. Instructions will be provided for each section and the specifics of the implementation are marked in the code block with a `# TODO: ...` comment. Please be sure to read the instructions carefully!\n",
    "\n",
    "In addition to implementing code, there will be questions for you to answer which relate to the task and your implementation. Each section where you will answer a question is preceded by a '**Question:**' header. Carefully read each question and provide your answer below the '**Answer:**' header by editing the Markdown cell.\n",
    "\n",
    "> **Note**: Code and Markdown cells can be executed using the **Shift+Enter** keyboard shortcut. In addition, a cell can be edited by typically clicking it (double-click for Markdown cells) or by pressing **Enter** while it is highlighted."
   ]
  },
  {
   "cell_type": "markdown",
   "metadata": {},
   "source": [
    "## Step 1: Exploring the data!\n",
    "\n",
    "The dataset we are going to use is very popular among researchers in Natural Language Processing, usually referred to as the [IMDb dataset](http://ai.stanford.edu/~amaas/data/sentiment/). It consists of movie reviews from the website [imdb.com](http://www.imdb.com/), each labeled as either '**pos**itive', if the reviewer enjoyed the film, or '**neg**ative' otherwise.\n",
    "\n",
    "> Maas, Andrew L., et al. [Learning Word Vectors for Sentiment Analysis](http://ai.stanford.edu/~amaas/data/sentiment/). In _Proceedings of the 49th Annual Meeting of the Association for Computational Linguistics: Human Language Technologies_. Association for Computational Linguistics, 2011.\n",
    "\n",
    "We have provided the dataset for you. You can load it in by executing the Python cell below."
   ]
  },
  {
   "cell_type": "code",
   "execution_count": 1,
   "metadata": {},
   "outputs": [
    {
     "name": "stdout",
     "output_type": "stream",
     "text": [
      "IMDb reviews: train = 12500 pos / 12500 neg, test = 12500 pos / 12500 neg\n"
     ]
    }
   ],
   "source": [
    "import os\n",
    "import glob\n",
    "\n",
    "def read_imdb_data(data_dir='data/imdb-reviews'):\n",
    "    \"\"\"Read IMDb movie reviews from given directory.\n",
    "    \n",
    "    Directory structure expected:\n",
    "    - data/\n",
    "        - train/\n",
    "            - pos/\n",
    "            - neg/\n",
    "        - test/\n",
    "            - pos/\n",
    "            - neg/\n",
    "    \n",
    "    \"\"\"\n",
    "\n",
    "    # Data, labels to be returned in nested dicts matching the dir. structure\n",
    "    data = {}\n",
    "    labels = {}\n",
    "\n",
    "    # Assume 2 sub-directories: train, test\n",
    "    for data_type in ['train', 'test']:\n",
    "        data[data_type] = {}\n",
    "        labels[data_type] = {}\n",
    "\n",
    "        # Assume 2 sub-directories for sentiment (label): pos, neg\n",
    "        for sentiment in ['pos', 'neg']:\n",
    "            data[data_type][sentiment] = []\n",
    "            labels[data_type][sentiment] = []\n",
    "            \n",
    "            # Fetch list of files for this sentiment\n",
    "            path = os.path.join(data_dir, data_type, sentiment, '*.txt')\n",
    "            files = glob.glob(path)\n",
    "            \n",
    "            # Read reviews data and assign labels\n",
    "            for f in files:\n",
    "                with open(f) as review:\n",
    "                    data[data_type][sentiment].append(review.read())\n",
    "                    labels[data_type][sentiment].append(sentiment)\n",
    "            \n",
    "            assert len(data[data_type][sentiment]) == len(labels[data_type][sentiment]), \\\n",
    "                    \"{}/{} data size does not match labels size\".format(data_type, sentiment)\n",
    "    \n",
    "    # Return data, labels as nested dicts\n",
    "    return data, labels\n",
    "\n",
    "\n",
    "data, labels = read_imdb_data()\n",
    "print(\"IMDb reviews: train = {} pos / {} neg, test = {} pos / {} neg\".format(\n",
    "        len(data['train']['pos']), len(data['train']['neg']),\n",
    "        len(data['test']['pos']), len(data['test']['neg'])))"
   ]
  },
  {
   "cell_type": "markdown",
   "metadata": {},
   "source": [
    "Now that the data is loaded in, let's take a quick look at one of the positive reviews:"
   ]
  },
  {
   "cell_type": "code",
   "execution_count": 11,
   "metadata": {},
   "outputs": [
    {
     "name": "stdout",
     "output_type": "stream",
     "text": [
      "A solid, if unremarkable film. Matthau, as Einstein, was wonderful. My favorite part, and the only thing that would make me go out of my way to see this again, was the wonderful scene with the physicists playing badmitton, I loved the sweaters and the conversation while they waited for Robbins to retrieve the birdie.\n",
      "---\n",
      "pos\n"
     ]
    }
   ],
   "source": [
    "print(data['train']['pos'][2])\n",
    "print('---')\n",
    "print(labels['train']['pos'][2])"
   ]
  },
  {
   "cell_type": "markdown",
   "metadata": {},
   "source": [
    "And one with a negative sentiment:"
   ]
  },
  {
   "cell_type": "code",
   "execution_count": 12,
   "metadata": {},
   "outputs": [
    {
     "name": "stdout",
     "output_type": "stream",
     "text": [
      "Ouch! This one was a bit painful to sit through. It has a cute and amusing premise, but it all goes to hell from there. Matthew Modine is almost always pedestrian and annoying, and he does not disappoint in this one. Deborah Kara Unger and John Neville turned in surprisingly decent performances. Alan Bates and Jennifer Tilly, among others, played it way over the top. I know that's the way the parts were written, and it's hard to blame actors, when the script and director have them do such schlock. If you're going to have outrageous characters, that's OK, but you gotta have good material to make it work. It didn't here. Run away screaming from this movie if at all possible.\n",
      "---\n",
      "neg\n"
     ]
    }
   ],
   "source": [
    "print(data['train']['neg'][2])\n",
    "print('---')\n",
    "print(labels['train']['neg'][2])"
   ]
  },
  {
   "cell_type": "markdown",
   "metadata": {},
   "source": [
    "We can also make a wordcloud visualization of the reviews."
   ]
  },
  {
   "cell_type": "code",
   "execution_count": 4,
   "metadata": {},
   "outputs": [
    {
     "data": {
      "image/png": "[encoded data removed]",
      "text/plain": [
       "<Figure size 432x288 with 1 Axes>"
      ]
     },
     "metadata": {},
     "output_type": "display_data"
    }
   ],
   "source": [
    "import matplotlib.pyplot as plt\n",
    "%matplotlib inline\n",
    "\n",
    "from wordcloud import WordCloud, STOPWORDS\n",
    "\n",
    "sentiment = 'pos'\n",
    "\n",
    "# Combine all reviews for the desired sentiment\n",
    "combined_text = \" \".join([review for review in data['train'][sentiment]])\n",
    "\n",
    "# Initialize wordcloud object\n",
    "wc = WordCloud(background_color='white', max_words=50,\n",
    "        # update stopwords to include common words like film and movie\n",
    "        stopwords = STOPWORDS.update(['br','film','movie']))\n",
    "\n",
    "# Generate and plot wordcloud\n",
    "plt.imshow(wc.generate(combined_text))\n",
    "plt.axis('off')\n",
    "plt.show()"
   ]
  },
  {
   "cell_type": "markdown",
   "metadata": {},
   "source": [
    "Try changing the sentiment to `'neg'` and see if you can spot any obvious differences between the wordclouds."
   ]
  },
  {
   "cell_type": "markdown",
   "metadata": {},
   "source": [
    "### TODO: Form training and test sets\n",
    "\n",
    "Now that you've seen what the raw data looks like, combine the positive and negative documents to get one unified training set and one unified test set."
   ]
  },
  {
   "cell_type": "code",
   "execution_count": 30,
   "metadata": {},
   "outputs": [
    {
     "name": "stdout",
     "output_type": "stream",
     "text": [
      "25000\n",
      "IMDb reviews (combined): train = 25000, test = 25000\n"
     ]
    }
   ],
   "source": [
    "from sklearn.utils import shuffle\n",
    "\n",
    "def prepare_imdb_data(data):\n",
    "    \"\"\"Prepare training and test sets from IMDb movie reviews.\"\"\"\n",
    "    \n",
    "    # TODO: Combine positive and negative reviews and labels\n",
    "    data_train_pos = [(review, 'pos') for review in data['train']['pos']]\n",
    "    data_train_neg = [(review, 'neg') for review in data['train']['neg']]\n",
    "    data_train_all = data_train_pos + data_train_neg\n",
    "    \n",
    "    data_test_pos = [(review, 'pos') for review in data['test']['pos']]\n",
    "    data_test_neg = [(review, 'neg') for review in data['test']['neg']]\n",
    "    data_test_all = data_test_pos + data_test_neg\n",
    "    \n",
    "    # TODO: Shuffle reviews and corresponding labels within training and test sets\n",
    "    shuffled_train = shuffle(data_train_all)\n",
    "    shuffled_test = shuffle(data_test_all)\n",
    "    \n",
    "    data_train = [i[0] for i in shuffled_train]\n",
    "    labels_train = [i[1] for i in shuffled_train]\n",
    "    \n",
    "    data_test = [i[0] for i in shuffled_test]\n",
    "    labels_test = [i[1] for i in shuffled_test]\n",
    "\n",
    "    # Return a unified training data, test data, training labels, test labets\n",
    "    return data_train, data_test, labels_train, labels_test\n",
    "\n",
    "\n",
    "data_train, data_test, labels_train, labels_test = prepare_imdb_data(data)\n",
    "print(\"IMDb reviews (combined): train = {}, test = {}\".format(len(data_train), len(data_test)))"
   ]
  },
  {
   "cell_type": "markdown",
   "metadata": {},
   "source": [
    "## Step 2. Preprocessing\n",
    "\n",
    "As you might have noticed in the sample reviews, our raw data includes HTML. Therefore there are HTML tags that need to be removed. We also need to remove non-letter characters, normalize uppercase letters by converting them to lowercase, tokenize, remove stop words, and stem the remaining words in each document.\n",
    "\n",
    "### TODO: Convert each review to words\n",
    "\n",
    "As your next task, you should complete the function `review_to_words()` that performs all these steps. For your convenience, in the Python cell below we provide you with all the libraries that you may need in order to accomplish these preprocessing steps. Make sure you can import all of them! (If not, pip install from a terminal and run/import again.)"
   ]
  },
  {
   "cell_type": "code",
   "execution_count": 56,
   "metadata": {},
   "outputs": [
    {
     "name": "stdout",
     "output_type": "stream",
     "text": [
      "[nltk_data] Downloading package stopwords to\n",
      "[nltk_data]     /Users/calvinoh/nltk_data...\n",
      "[nltk_data]   Package stopwords is already up-to-date!\n",
      "[nltk_data] Downloading package punkt to /Users/calvinoh/nltk_data...\n",
      "[nltk_data]   Package punkt is already up-to-date!\n"
     ]
    }
   ],
   "source": [
    "# BeautifulSoup to easily remove HTML tags\n",
    "from bs4 import BeautifulSoup \n",
    "\n",
    "# RegEx for removing non-letter characters\n",
    "import re\n",
    "\n",
    "# NLTK library for the remaining steps\n",
    "import nltk\n",
    "nltk.download(\"stopwords\")   # download list of stopwords (only once; need not run it again)\n",
    "nltk.download('punkt') # for tokenization\n",
    "from nltk.corpus import stopwords # import stopwords\n",
    "from nltk.tokenize import RegexpTokenizer\n",
    "tokenizer = RegexpTokenizer(r'\\w+')\n",
    "\n",
    "from nltk.stem.porter import *\n",
    "stemmer = PorterStemmer()"
   ]
  },
  {
   "cell_type": "code",
   "execution_count": 57,
   "metadata": {},
   "outputs": [
    {
     "name": "stdout",
     "output_type": "stream",
     "text": [
      "['This', 'is', 'just', 'a', 'test', 'But', 'if', 'it', 'wasn', 't', 'a', 'test', 'it', 'would', 'make', 'for', 'a', 'Great', 'movie', 'review']\n"
     ]
    },
    {
     "name": "stderr",
     "output_type": "stream",
     "text": [
      "/Users/calvinoh/miniconda3/lib/python3.6/site-packages/bs4/__init__.py:181: UserWarning: No parser was explicitly specified, so I'm using the best available HTML parser for this system (\"html5lib\"). This usually isn't a problem, but if you run this code on another system, or in a different virtual environment, it may use a different parser and behave differently.\n",
      "\n",
      "The code that caused this warning is on line 193 of the file /Users/calvinoh/miniconda3/lib/python3.6/runpy.py. To get rid of this warning, change code that looks like this:\n",
      "\n",
      " BeautifulSoup(YOUR_MARKUP})\n",
      "\n",
      "to this:\n",
      "\n",
      " BeautifulSoup(YOUR_MARKUP, \"html5lib\")\n",
      "\n",
      "  markup_type=markup_type))\n"
     ]
    },
    {
     "data": {
      "text/plain": [
       "['thi', 'test', 'but', 'test', 'would', 'make', 'great', 'movi', 'review']"
      ]
     },
     "execution_count": 57,
     "metadata": {},
     "output_type": "execute_result"
    }
   ],
   "source": [
    "def review_to_words(review):\n",
    "    \"\"\"Convert a raw review string into a sequence of words.\"\"\"\n",
    "    \n",
    "    # TODO: Remove HTML tags and non-letters,\n",
    "    #       convert to lowercase, tokenize,\n",
    "    #       remove stopwords and stem\n",
    "\n",
    "    # Return final list of words\n",
    "    soup = BeautifulSoup(review)\n",
    "    text = soup.get_text()\n",
    "    tokenizer = RegexpTokenizer(r'\\w+')\n",
    "    words = tokenizer.tokenize(text)\n",
    "    print(words)\n",
    "    stems = [stemmer.stem(w) for w in words if w not in stopwords.words()]\n",
    "    return stems\n",
    "\n",
    "\n",
    "review_to_words(\"\"\"This is just a <em>test</em>.<br/><br />\n",
    "But if it wasn't a test, it would make for a <b>Great</b> movie review!\"\"\")"
   ]
  },
  {
   "cell_type": "markdown",
   "metadata": {},
   "source": [
    "With the function `review_to_words()` fully implemeneted, we can apply it to all reviews in both training and test datasets. This may take a while, so let's build in a mechanism to write to a cache file and retrieve from it later."
   ]
  },
  {
   "cell_type": "code",
   "execution_count": 59,
   "metadata": {},
   "outputs": [
    {
     "name": "stderr",
     "output_type": "stream",
     "text": [
      "/Users/calvinoh/miniconda3/lib/python3.6/site-packages/bs4/__init__.py:181: UserWarning: No parser was explicitly specified, so I'm using the best available HTML parser for this system (\"html5lib\"). This usually isn't a problem, but if you run this code on another system, or in a different virtual environment, it may use a different parser and behave differently.\n",
      "\n",
      "The code that caused this warning is on line 193 of the file /Users/calvinoh/miniconda3/lib/python3.6/runpy.py. To get rid of this warning, change code that looks like this:\n",
      "\n",
      " BeautifulSoup(YOUR_MARKUP})\n",
      "\n",
      "to this:\n",
      "\n",
      " BeautifulSoup(YOUR_MARKUP, \"html5lib\")\n",
      "\n",
      "  markup_type=markup_type))\n"
     ]
    },
    {
     "name": "stdout",
     "output_type": "stream",
     "text": [
      "['Easily', '9', 'out', 'of', '10', 'for', 'a', 'film', 'by', 'director', 'we', 'will', 'continue', 'to', 'grow', 'to', 'admire', 'But', 'don', 't', 'watch', 'this', 'movie', 'expecting', 'to', 'be', 'entertained', 'Ang', 'Lee', 'takes', 'an', 'objective', 'look', 'at', 'a', 'relatively', 'unexplored', 'aspect', 'of', 'the', 'Civil', 'War', 'What', 'is', 'beautiful', 'about', 'the', 'movie', 'like', 'all', 'of', 'Lee', 's', 'films', 'is', 'that', 'he', 'doesn', 't', 'side', 'with', 'his', 'characters', 'He', 'creates', 'characters', 'embodies', 'them', 'with', 'life', 'problems', 'and', 'ambiguity', 'and', 'endows', 'them', 'with', 'a', 'reality', 'that', 'often', 'hits', 'far', 'closer', 'to', 'home', 'than', 'with', 'which', 'many', 'are', 'comfortable', 'This', 'film', 'has', 'action', 'but', 'it', 'is', 'not', 'for', 'the', 'action', 'lover', 'since', 'the', 'violence', 'is', 'deeply', 'disturbing', 'and', 'far', 'from', 'gratuitous', 'i', 'e', 'like', 'the', 'characters', 'it', 'is', 'real', 'And', 'as', 'you', 'would', 'expect', 'about', 'one', 'of', 'mankind', 's', 'most', 'horrific', 'wars', 'the', 'violence', 'is', 'horrific', 'But', 'as', 'an', 'exploration', 'of', 'the', 'greater', 'human', 'ambiguity', 'that', 'surely', 'dwelt', 'within', 'the', 'Civil', 'War', 'it', 'is', 'a', 'masterpiece', 'Was', 'the', 'war', 'about', 'slavery', 'and', 'an', 'abolitionism', 'Lee', 'seems', 'quite', 'willing', 'to', 'blur', 'that', 'line', 'made', 'so', 'popular', 'in', 'depictions', 'like', 'the', 'Blue', 'and', 'the', 'Grey', 'Neither', 'is', 'about', 'idealism', 'though', 'as', 'seen', 'in', 'Gone', 'with', 'the', 'Wind', 'It', 'is', 'about', 'freedom', 'about', 'the', 'desire', 'to', 'have', 'something', 'which', 'is', 'yours', 'and', 'to', 'fight', 'for', 'it', 'As', 'you', 'watch', 'the', 'characters', 'you', 'will', 'ask', 'yourself', 'how', 'can', 'they', 'be', 'fighting', 'to', 'preserve', 'slavery', 'The', 'fact', 'is', 'I', 'don', 't', 'think', 'they', 'really', 'are', 'and', 'in', 'that', 'the', 'film', 'shows', 'the', 'problem', 'of', 'why', 'so', 'many', 'were', 'caught', 'up', 'in', 'the', 'maelstrom', 'of', 'the', 'Civil', 'War', 'The', 'fact', 'seems', 'clear', 'that', 'many', 'of', 'the', 'characters', 'we', 'learn', 'about', 'are', 'fighting', 'out', 'of', 'senses', 'of', 'loyalty', 'to', 'home', 'though', 'they', 'may', 'never', 'have', 'examined', 'what', 'home', 'represents', 'or', 'whether', 'they', 'truly', 'espouse', 'its', 'values', 'The', 'letter', 'scenes', 'are', 'very', 'moving', 'and', 'yet', 'subtle', 'Jake', 'and', 'Daniel', 'are', 'other', 'examples', 'of', 'loyalty', 'stretched', 'to', 'the', 'limits', 'And', 'when', 'the', 'tension', 'finally', 'snaps', 'and', 'these', 'characters', 'find', 'themselves', 'suddenly', 'free', 'we', 'see', 'the', 'birth', 'of', 'new', 'men', 'All', 'this', 'mixed', 'in', 'with', 'Lee', 's', 'beautiful', 'incorporation', 'of', 'humankind', 's', 'environment', 'with', 'breathtaking', 'vistas', 'and', 'frames', 'Lee', 'has', 'a', 'style', 'which', 'is', 'his', 'somehow', 'European', 'in', 'its', 'art', 'a', 'slow', 'camera', 'unrushed', 'Asian', 'in', 'its', 'epic', 'ness', 'and', 'development', 'of', 'story', 'and', 'yet', 'somehow', 'familiar', 'and', 'easily', 'accessible', 'to', 'so', 'many', 'in', 'North', 'Americans', 'Relax', 'let', 'go', 'of', 'your', 'preconceptions', 'about', 'what', 'the', 'Civil', 'War', 'is', 'what', 'the', 'western', 'as', 'a', 'genre', 'is', 'what', 'a', 'war', 'movie', 'should', 'be', 'and', 'let', 'Ang', 'Lee', 'take', 'you', 'into', 'a', 'world', 'so', 'fragile', 'so', 'hard', 'so', 'real', 'that', 'few', 'of', 'us', 'can', 'comfortably', 'see', 'it', 'In', 'this', 'Lee', 'continues', 'what', 'he', 'wrought', 'in', 'Ice', 'Storm', 'Again', 'the', 'movie', 'is', 'slow', 'paced', 'and', 'without', 'apparent', 'direction', 'a', 'sure', 'sign', 'of', 'Lee', 's', 'ability', 'to', 'direct', 'without', 'imposing', 'himself', 'on', 'the', 'story', 'or', 'screen', 'His', 'direction', 'is', 'amplified', 'by', 'what', 'he', 'brings', 'out', 'of', 'Jewel', 'yes', 'the', 'singer', 'a', 'hitherto', 'unproven', 'actress', 'who', 'puts', 'in', 'an', 'amazing', 'performance', 'A', 'movie', 'for', 'those', 'who', 'love', 'film', 'and', 'are', 'not', 'lovers', 'of', 'the', 'standard', 'Hollywood', 'epic']\n",
      "['Across', 'the', 'country', 'and', 'especially', 'in', 'the', 'political', 'landscape', 'people', 'with', 'any', 'kind', 'of', 'political', 'ambition', 'should', 'take', 'time', 'out', 'to', 'see', 'this', 'film', 'The', 'movie', 'is', 'called', 'City', 'Hall', 'and', 'with', 'little', 'imagination', 'its', 'synopsis', 'can', 'take', 'place', 'anywhere', 'in', 'America', 'It', 'just', 'so', 'happens', 'to', 'open', 'in', 'New', 'York', 'Here', 'we', 'have', 'the', 'story', 'of', 'a', 'popular', 'politician', 'named', 'Mayor', 'John', 'Pappas', 'Al', 'Pacino', 'with', 'enough', 'savvy', 'to', 'run', 'a', 'major', 'metropolitan', 'city', 'with', 'very', 'little', 'effort', 'His', 'right', 'hand', 'man', 'is', 'none', 'other', 'than', 'Deputy', 'Mayor', 'Kevin', 'Calhoun', 'John', 'Cusack', 'an', 'equally', 'bright', 'individual', 'who', 's', 'ambitions', 'are', 'tied', 'to', 'his', 'mentor', 'and', 'both', 'seemed', 'destined', 'for', 'higher', 'office', 'Everything', 'points', 'in', 'that', 'direction', 'until', 'a', 'police', 'shooting', 'ignites', 'an', 'investigation', 'spearheaded', 'by', 'Marybeth', 'Cogan', 'Bridget', 'Fonda', 'who', 'believes', 'the', 'guilt', 'points', 'towards', 'city', 'hall', 'and', 'the', 'mayor', 'A', 'six', 'year', 'old', 'boy', 'and', 'a', 'police', 'officer', 's', 'death', 'are', 'blamed', 'on', 'a', 'career', 'criminal', 'who', 's', 'questionable', 'freedom', 'leads', 'to', 'an', 'apparent', 'cover', 'up', 'by', 'political', 'pay', 'offs', 'and', 'city', 'corruption', 'involving', 'union', 'leaders', 'like', 'Danny', 'Aiello', 'played', 'by', 'Frank', 'Anselmo', 'corrupt', 'judicial', 'officials', 'like', 'Judge', 'Walter', 'Stern', 'Martin', 'Landau', 'and', 'mafia', 'bosses', 'like', 'Paul', 'Zapatti', 'Anthony', 'Franciosa', 'who', 'are', 'deeply', 'involved', 'Also', 'implicated', 'are', 'party', 'officials', 'like', 'Larry', 'Schwartz', 'Richard', 'Schiff', 'who', 'works', 'for', 'the', 'probation', 'office', 'of', 'New', 'York', 'But', 'it', 'is', 'the', 'bond', 'between', 'the', 'mayor', 'and', 'his', 'deputy', 'which', 'is', 'taken', 'to', 'task', 'by', 'the', 'accidental', 'shooting', 'A', 'great', 'vehicle', 'for', 'Cusack', 'and', 'a', 'sure', 'bet', 'nominee', 'to', 'become', 'a', 'classic']\n",
      "['This', 'movie', 'is', 'trash', 'poor', 'It', 'has', 'horrible', 'taste', 'and', 'is', 'pedestrian', 'and', 'unconvincing', 'in', 'script', 'although', 'supposedly', 'based', 'on', 'real', 'events', 'which', 'doesn', 't', 'add', 'much', 'of', 'anything', 'but', 'make', 'it', 'more', 'of', 'a', 'disappointment', 'Direction', 'is', 'not', 'well', 'done', 'at', 'as', 'scenes', 'and', 'dialogue', 'are', 'out', 'of', 'place', 'Not', 'sure', 'what', 'Robin', 'Williams', 'saw', 'in', 'this', 'character', 'or', 'story', 'To', 'start', 'Williams', 'is', 'not', 'convincing', 'as', 'a', 'gay', 'in', 'a', 'relationship', 'breakup', 'nor', 'is', 'the', 'relationship', 'itself', 'interesting', 'What', 's', 'worse', 'his', 'character', 'is', 'compelled', 'by', 'an', 'ugly', 'pedophile', 'story', 'that', 'is', 'base', 'and', 'has', 'no', 'place', 'as', 'a', 'plot', 'device', 'You', 'have', 'an', 'older', 'Rory', 'Culkin', 'tastelessly', 'spouting', 'd_ck_smker', 'in', 'good', 'fun', 'which', 'is', 'annoying', 'enough', 'and', 'then', 'laughed', 'up', 'by', 'the', 'Williams', 'character', 'Finally', 'you', 'have', 'Sandra', 'Oh', 'as', 'a', 'guardian', 'angel', 'adviser', 'to', 'Williams', 'and', 'a', 'thrown', 'in', 'explanation', 'of', 'the', 'whole', 'fiasco', 'towards', 'the', 'end', 'Toni', 'Collete', 's', 'character', 'is', 'just', 'plain', 'annoying', 'and', 'a', 're', 'hash', 'of', 'her', '6th', 'Sense', 'performance', 'with', 'poorer', 'direction', 'Very', 'Miss', 'able']\n",
      "['It', 'had', 'all', 'the', 'clichés', 'of', 'movies', 'of', 'this', 'type', 'and', 'no', 'substance', 'The', 'plot', 'went', 'nowhere', 'and', 'at', 'the', 'end', 'of', 'the', 'movie', 'I', 'felt', 'like', 'a', 'sucker', 'for', 'watching', 'it', 'The', 'production', 'was', 'good', 'however', 'the', 'script', 'and', 'acting', 'were', 'B', 'movie', 'quality', 'The', 'casting', 'was', 'poor', 'because', 'there', 'were', 'good', 'actors', 'mixed', 'in', 'with', 'crumby', 'actors', 'The', 'good', 'actors', 'didn', 't', 'hold', 'their', 'own', 'nor', 'did', 'they', 'lift', 'up', 'the', 'others', 'This', 'movie', 'is', 'not', 'worthy', 'of', 'more', 'words', 'but', 'I', 'will', 'say', 'more', 'to', 'meet', 'the', 'minimum', 'requirement', 'of', 'ten', 'lines', 'James', 'Wood', 'and', 'Cuba', 'Gooding', 'Jr', 'play', 'caricatures', 'of', 'themselves', 'in', 'other', 'movies', 'If', 'you', 'are', 'looking', 'for', 'mindless', 'entertainment', 'I', 'still', 'wouldn', 't', 'recommend', 'this', 'movie']\n"
     ]
    },
    {
     "name": "stdout",
     "output_type": "stream",
     "text": [
      "['The', 'only', 'redeeming', 'qualities', 'this', 'movie', 'has', 'are', 'the', 'fairly', 'original', 'death', 'scenes', 'Other', 'than', 'that', 'this', 'movie', 'is', 'a', 'big', 'DUD', 'We', 'have', 'Kim', 'Basinger', 'the', 'beleaguered', 'housewife', 'slowly', 'meandering', 'thru', 'the', 'local', 'mall', 'for', 'the', 'first', '30', 'min', 'of', 'the', 'movie', 'which', 'added', 'nothing', 'Then', 'the', 'movie', 'picks', 'up', 'a', 'bit', 'as', 'she', 'has', 'a', 'confrontation', 'with', '4', 'punks', 'who', 'took', 'up', '2', 'parking', 'spaces', 'on', 'this', 'busy', 'xmas', 'eve', 'They', 'begin', 'to', 'chase', 'her', 'after', 'offing', 'the', 'local', 'security', 'guard', 'who', 'tried', 'to', 'help', 'her', 'From', 'there', 'this', 'movie', 'gets', 'worse', 'way', 'worse', 'I', 'know', 'its', 'only', 'a', 'movie', 'and', 'you', 've', 'gotta', 'go', 'with', 'the', 'flow', 'but', 'she', 's', 'got', 'about', 'a', '5', 'min', 'headstart', 'and', 'she', 'can', 't', 'hide', 'or', 'find', 'someone', 'to', 'help', 'her', 'Instead', 'she', 'drives', 'to', 'a', 'half', 'built', 'subdivision', 'beside', 'a', 'forest', 'In', 'typical', 'fashion', 'she', 'does', 'everything', 'she', 'can', 'to', 'allow', 'her', 'followers', 'to', 'easily', 'track', 'her', 'But', 'now', 'she', 'turns', 'into', 'one', 'tough', 'mofu', 'You', 'get', 'the', 'point', 'Do', 'not', 'under', 'any', 'circumstances', 'buy', 'or', 'rent', 'this', 'movie', 'no', 'matter', 'how', 'much', 'you', 'like', 'this', 'type', 'It', 's', 'so', 'illogical', 'you', 'll', 'be', 'questioning', 'every', 'scene', 'It', 'is', 'embarrassing', 'for', 'Basinger', 'and', 'Craig', 'Sheffer', 'and', 'the', 'rest', 'of', 'the', 'cast', 'as', 'well', 'as', 'the', 'consumers']\n",
      "['Dracula', 'II', 'Ascension', 'is', 'the', 'story', 'of', 'a', 'group', 'of', 'medical', 'students', 'who', 'come', 'across', 'the', 'body', 'of', 'Dracula', 'When', 'a', 'mysterious', 'stranger', 'appears', 'and', 'offers', 'the', 'students', '30', 'million', 'to', 'harvest', 'the', 'body', 'and', 'steal', 'its', 'blood', 'for', 'auction', 'it', 's', 'an', 'offer', 'they', 'can', 'hardly', 'refuse', 'Soon', 'the', 'students', 'also', 'find', 'themselves', 'relentlessly', 'pursued', 'by', 'a', 'vampire', 'killer', 'from', 'the', 'Vatican', 'Dracula', 'II', 'Ascension', 'is', 'a', 'slightly', 'entertaining', 'horror', 'film', 'that', 'has', 'many', 'flaws', 'The', 'characters', 'are', 'one', 'dimensional', 'and', 'the', 'acting', 'is', 'pretty', 'average', 'There', 'are', 'some', 'good', 'gore', 'effects', 'like', 'really', 'cool', 'double', 'decapitation', 'scene', 'but', 'there', 'is', 'not', 'enough', 'violence', 'for', 'my', 'liking', 'The', 'film', 'becomes', 'quickly', 'boring', 'and', 'forgettable', 'and', 'there', 'is', 'absolutely', 'no', 'suspense', 'So', 'if', 'you', 'like', 'modern', 'vampire', 'flicks', 'give', 'it', 'a', 'look', 'I', 'prefer', 'atmospheric', 'vampire', 'chillers', 'from', '60', 's', 'and', 'early', '70', 's', 'like', 'Lips', 'of', 'Blood', 'The', 'Brides', 'of', 'Dracula', 'or', 'Lemora', 'A', 'Child', 's', 'Tale', 'of', 'Supernatural', 'to', 'name', 'only', 'a', 'few', '4', 'out', 'of', '10']\n",
      "['I', 'have', 'recently', 'watched', 'this', 'movie', 'twice', 'and', 'I', 'can', 't', 'seem', 'to', 'understand', 'why', 'the', 'h', 'll', 'the', 'makers', 'made', 'this', 'pile', 'of', 'crap', 'I', 'mean', 'yes', 'It', 'gives', 'a', 'great', 'impression', 'of', 'Hitler', 's', 'environment', 'and', 'I', 'mean', 'the', 'way', 'they', 'reproduced', 'Austria', 'in', 'the', 'late', '1890', 's', 'WWI', 'and', 'the', 'Inter', 'war', 'period', 'What', 'I', 'can', 't', 'understand', 'is', 'why', 'they', 'pictured', 'Hitler', 'as', 'a', '100', 'pure', 'evil', 'mad', 'unreliable', 'mentally', 'unstable', 'freak', 'He', 'was', 'after', 'all', 'a', 'very', 'thoughtful', 'loving', 'and', 'intelligent', 'man', 'who', 'of', 'course', 'had', 'his', 'dark', 'sides', 'no', 'doubt', 'about', 'that', 'But', 'why', 'in', 'heaven', 's', 'name', 'portray', 'him', 'in', 'this', 'way', 'All', 'of', 'his', 'positive', 'aspects', 'have', 'been', 'cut', 'out', 'of', 'the', 'scenario', 'leaving', 'nothing', 'but', 'a', 'very', 'propaganda', 'like', 'portrait', 'of', 'a', 'man', 'who', 'had', 'the', 'biggest', 'influence', 'on', 'modern', 'civilization', 'ever', 'Yes', 'he', 'threw', 'Germany', 'into', 'the', 'devastating', '2nd', 'World', 'War', 'Yes', 'he', 'was', 'racist', 'and', 'yes', 'he', 'was', 'at', 'times', 'menially', 'unstable', 'especially', 'at', 'the', 'end', 'of', 'the', 'war', 'All', 'true', 'But', 'again', 'why', 'the', 'hell', 'did', 'they', 'plain', 'LIE', 'to', 'the', 'public', 'To', 'warn', 'us', 'I', 'absolutely', 'don', 't', 'think', 'this', 'movie', 'was', 'a', 'warning', 'The', 'true', 'danger', 'of', 'Hitler', 'and', 'the', 'Nazi', 's', 'was', 'the', 'fact', 'they', 'were', 'able', 'to', 'rise', 'to', 'power', 'at', 'moments', 'of', 'severe', 'global', 'weakness', 'The', 'fact', 'this', 'evil', 'was', 'so', 'recognizable', 'yet', 'so', 'embraced', 'by', 'almost', 'every', 'German', 'alive', 'not', 'to', 'mention', 'Austrians', 'and', 'a', 'LOT', 'of', 'other', 'people', 'makes', 'it', 'a', 'warning', 'to', 'modern', 'civilization', 'NOT', 'the', 'fact', 'Hitler', 'was', 'such', 'a', 'weirdo', 'If', 'it', 'would', 'have', 'been', 'like', 'the', 'makers', 'make', 'us', 'believe', 'I', 'would', 'have', 'been', 'convinced', 'that', 'the', 'German', 'people', 'were', 'retarded', 'A', 'man', 'like', 'the', 'one', 'in', 'this', 'movie', 'would', 'have', 'never', 'gotten', 'anywhere', 'near', 'party', 'leader', 'not', 'to', 'mention', 'ReichsKanzler', '4', '10']\n",
      "['This', 'had', 'a', 'great', 'cast', 'with', 'big', 'name', 'stars', 'like', 'Tyrone', 'Power', 'Henry', 'Fonda', 'Randolph', 'Scott', 'Nancy', 'Kelly', 'Henry', 'Hull', 'and', 'Brian', 'Donlevey', 'and', 'a', 'bunch', 'more', 'lesser', 'but', 'known', 'names', 'with', 'shorter', 'roles', 'It', 'also', 'had', 'Technicolor', 'one', 'of', 'the', 'few', 'movies', 'made', 'with', 'it', 'in', '1939', 'Now', 'the', 'bad', 'news', 'regrettably', 'I', 'can', 't', 'say', 'much', 'positive', 'for', 'the', 'story', 'It', 'portrayed', 'the', 'James', 'boys', 'in', 'a', 'totally', 'positive', 'light', 'and', 'Hollywood', 'has', 'done', 'that', 'ever', 'since', 'Why', 'these', 'criminals', 'are', 'always', 'shown', 'to', 'be', 'the', 'good', 'guys', 'is', 'beyond', 'me', 'This', 'film', 'glamorizes', 'them', 'and', 'made', 'their', 'enemies', 'the', 'railroad', 'people', 'into', 'vicious', 'human', 'beings', 'The', 'latter', 'was', 'exaggerated', 'so', 'much', 'it', 'was', 'preposterous', 'Well', 'that', 's', 'the', 'film', 'world', 'for', 'you', 'evil', 'is', 'good', 'good', 'is', 'bad', 'Hey', 'Hollywood', 'here', 's', 'a', 'news', 'flash', 'The', 'James', 'boys', 'were', 'criminals', 'Really', 'look', 'it', 'up']\n",
      "['Mukhsin', 'is', 'a', 'beautiful', 'movie', 'about', 'a', 'first', 'love', 'story', 'Everyone', 'probably', 'has', 'one', 'and', 'this', 'is', 'writer', 'director', 'Yasmin', 'Ahmad', 's', 'story', 'of', 'hers', 'with', 'a', 'boy', 'called', 'Mukhsin', 'We', 'know', 'that', 'her', 'movies', 'have', 'been', 'semi', 'autobiographical', 'of', 'sorts', 'having', 'scenes', 'drawn', 'upon', 'her', 'personal', 'experiences', 'and', 'it', 'is', 'indeed', 'this', 'sharing', 'and', 'translating', 'of', 'these', 'emotions', 'to', 'the', 'big', 'screen', 'that', 'has', 'her', 'films', 'always', 'exude', 'a', 'warm', 'sincerity', 'and', 'honesty', 'Mukhsin', 'is', 'no', 'different', 'and', 'probably', 'the', 'most', 'polished', 'ad', 'confident', 'work', 'to', 'date', 'though', 'I', 'must', 'add', 'as', 'a', 'personal', 'bias', 'that', 'Sepet', 'still', 'has', 'a', 'special', 'place', 'in', 'my', 'heart', 'Our', 'favourite', 'family', 'is', 'back', 'Pak', 'Atan', 'Mak', 'Inom', 'Orked', 'and', 'Kak', 'Yam', 'though', 'this', 'time', 'we', 'go', 'back', 'to', 'when', 'Orked', 'is', 'age', '10', 'The', 'characters', 'are', 'all', 'younger', 'from', 'the', 'movies', 'we', 've', 'journeyed', 'with', 'them', 'from', 'Rabun', 'to', 'Gubra', 'and', 'here', 'Sharifah', 'Amani', 's', 'sisters', 'Sharifah', 'Aryana', 'and', 'Sharifah', 'Aleya', 'take', 'on', 'the', 'roles', 'of', 'Orked', 'and', 'Mak', 'Inom', 'respectively', 'which', 'perhaps', 'accounted', 'for', 'their', 'excellent', 'chemistry', 'together', 'on', 'screen', 'nevermind', 'that', 'their', 'not', 'playing', 'sibling', 'roles', 'The', 'only', 'constant', 'it', 'seems', 'is', 'Kak', 'Yam', 'played', 'by', 'Adibah', 'Noor', 'and', 'even', 'Pak', 'Atan', 'has', 'hair', 'on', 'his', 'head', 'Through', 'Mukshin', 'the', 'movie', 'we', 'come', 'full', 'circle', 'with', 'the', 'characters', 'and', 'the', 'world', 'that', 'Yasmin', 'has', 'introduced', 'us', 'to', 'We', 'come', 'to', 'learn', 'of', 'and', 'understand', 'the', 'family', 'a', 'little', 'bit', 'more', 'set', 'in', 'the', 'days', 'when', 'they', 're', 'still', 'living', 'in', 'their', 'kampung', 'revisited', 'back', 'in', 'Rabun', 'where', 'Orked', 'attends', 'a', 'Chinese', 'school', 'and', 'packs', 'some', 'serious', 'combination', 'of', 'punches', 'and', 'you', 'wonder', 'about', 'that', 'burst', 'of', 'energy', 'in', 'Gubra', 'well', 'she', 'had', 'it', 'in', 'her', 'since', 'young', 'The', 'perennial', 'tomboy', 'and', 'doted', 'child', 'of', 'the', 'family', 'she', 'prefers', 'playing', 'with', 'the', 'boys', 'in', 'games', 'rather', 'than', 'mindless', 'masak', 'masak', 'with', 'the', 'girls', 'and', 'favourite', 'outings', 'include', 'going', 'with', 'the', 'family', 'to', 'football', 'matches', 'The', 'arrival', 'of', 'a', 'boy', 'called', 'Mukhsin', 'Mohd', 'Syafie', 'Naswip', 'to', 'the', 'village', 'provides', 'a', 'cool', 'peer', 'for', 'Orked', 'to', 'hang', 'out', 'and', 'do', 'stuff', 'with', 'cycling', 'through', 'the', 'villages', 'climbing', 'trees', 'flying', 'kites', 'And', 'as', 'what', 'is', 'desired', 'to', 'be', 'explored', 'the', 'crossing', 'of', 'that', 'line', 'between', 'friendship', 'and', 'romance', 'both', 'beautiful', 'emotions', 'Mukhsin', 'does', 'have', 'its', 'cheeky', 'moments', 'which', 'liven', 'up', 'the', 'story', 'and', 'bring', 'about', 'laughter', 'because', 'some', 'of', 'the', 'incidents', 'we', 'would', 'have', 'experienced', 'it', 'ourselves', 'and', 'sometimes', 'serve', 'as', 'a', 'throwback', 'to', 'our', 'own', 'recollection', 'of', 'childhood', 'In', 'short', 'those', 'scenes', 'screamed', 'fun', 'We', 'observe', 'the', 'life', 'in', 'a', 'typical', 'kampung', 'where', 'some', 'neighbours', 'are', 'very', 'nice', 'while', 'others', 'the', 'nosy', 'parkers', 'and', 'rumour', 'mongers', 'spreading', 'ill', 'gossip', 'stemming', 'from', 'envy', 'There', 'are', '2', 'additional', 'family', 'dynamics', 'seen', 'one', 'from', 'an', 'immediate', 'neighbour', 'and', 'the', 'other', 'from', 'Mukhsin', 's', 'own', 'both', 'of', 'which', 'serve', 'as', 'adequate', 'subplots', 'and', 'contrast', 'to', 'Orked', 's', 'own', 'As', 'always', 'Yasmin', 's', 'movies', 'are', 'filled', 'with', 'excellent', 'music', 'and', 'for', 'Mukhsin', 'it', 'has', 'something', 'special', 'the', 'song', 'Hujan', 'as', 'penned', 'by', 'her', 'father', 'as', 'well', 'as', 'Ne', 'Me', 'Quitte', 'Pas', 'aptly', 'used', 'in', 'the', 'movie', 'Given', 'that', 'the', 'Yasmin', 's', 'movies', 'to', 'date', 'have', 'been', 'centred', 'around', 'the', 'same', 'characters', 'the', 'beauty', 'of', 'it', 'is', 'that', 'you', 'can', 'watch', 'them', 'as', 'stand', 'alone', 'or', 'when', 'watched', 'and', 'pieced', 'together', 'makes', 'a', 'compelling', 'family', 'drama', 'dealing', 'with', 'separate', 'themes', 'and', 'universal', 'issues', 'like', 'interracial', 'romance', 'love', 'and', 'forgiveness', 'Fans', 'will', 'definitely', 'see', 'the', 'many', 'links', 'in', 'Mukhsin', 'back', 'to', 'the', 'earlier', 'movies', 'while', 'new', 'audiences', 'will', 'surely', 'be', 'curious', 'to', 'find', 'out', 'certain', 'whys', 'and', 'significance', 'of', 'recurring', 'characters', 'or', 'events', 'like', 'that', 'pudgy', 'boy', 'who', 'steals', 'glances', 'at', 'Orked', 'And', 'speaking', 'of', 'whys', 'parts', 'of', 'Mukhsin', 'too', 'is', 'curiously', 'open', 'which', 'probably', 'is', 'distinctive', 'of', 'Yasmin', 's', 'style', 'or', 'deliberately', 'left', 'as', 'such', 'I', 'thought', 'that', 'as', 'a', 'story', 'about', 'childhood', 'recollected', 'from', 'memory', 'then', 'there', 'are', 'details', 'which', 'will', 'be', 'left', 'out', 'for', 'sure', 'And', 'subtly', 'I', 'felt', 'that', 'Mukhsin', 'exhibited', 'this', 'perfectly', 'with', 'not', 'so', 'detailed', 'details', 'and', 'the', 'focus', 'on', 'what', 'can', 'be', 'remembered', 'in', 'significant', 'episodes', 'between', 'the', 'two', 'Another', 'highly', 'recommended', 'movie', 'and', 'a', 'rare', 'one', 'that', 'I', 'feel', 'is', 'suitable', 'for', 'all', 'ages', 'bring', 'along', 'your', 'kid', 'brother', 'or', 'sister']\n"
     ]
    },
    {
     "name": "stdout",
     "output_type": "stream",
     "text": [
      "['It', 's', 'so', 'sad', 'that', 'Romanian', 'audiences', 'are', 'still', 'populated', 'with', 'vulgar', 'and', 'uneducated', 'individuals', 'who', 'relish', 'this', 'kind', 'of', 'cheap', 'and', 'demonstrative', 'shows', 'as', 'superficial', 'and', 'brutal', 'as', 'the', 'Garcea', 'series', 'or', 'the', 'Vacanta', 'mare', 'child', 'plays', 'The', 'difference', 'is', 'that', 'Mugur', 'Mihäescu', 'Doru', 'Octavian', 'Dumitru', 'and', 'other', 'such', 'sub', 'artisans', 'never', 'presume', 'to', 'claim', 'their', 'shows', 'as', 'art', 'Pintilie', 'who', '40', 'years', 'ago', 'made', 'a', 'very', 'good', 'movie', 'Duminicä', 'la', 'ora', 'sase', 'followed', 'by', 'another', 'one', 'nice', 'enough', 'Reconstituirea', 'tries', 'to', 'declare', 'his', 'film', 'lenghts', 'art', 'works', 'but', 'unfortunately', 'he', 'masters', 'at', 'a', 'way', 'too', 'limited', 'level', 'the', 'specifically', 'cinematographic', 'means', 'of', 'expression', 'As', 'such', 'Niki', 'Ardelean', 'offers', 'again', 'a', 'sample', 'of', 'HOW', 'NOT', 'this', 'being', 'about', 'its', 'only', 'merit']\n",
      "['Legend', 'of', 'Zu', 'is', 'possibly', 'the', 'most', 'exciting', 'movie', 'ive', 'seen', 'in', 'recent', 'years', 'It', 'transcends', 'all', 'expectations', 'and', 'is', 'truly', 'a', 'work', 'of', 'art', 'With', 'unmatched', 'visual', 'sceneries', 'and', 'story', 'of', 'divine', 'proportions', 'Legend', 'of', 'Zu', 'proceeds', 'to', 'blow', 'over', 'its', 'viewers', 'with', 'its', 'majesty', 'This', 'movie', 'is', 'wonderously', 'crafted', 'through', 'the', 'use', 'of', 'high', 'tech', 'cgi', 'which', 'allows', 'fans', 'of', 'the', 'fantasy', 'genre', 'to', 'see', 'their', 'visions', 'come', 'to', 'life', 'The', 'acting', 'is', 'perfect', 'for', 'this', 'type', 'of', 'movie', 'if', 'you', 'were', 'an', 'immortal', 'with', 'supernatural', 'powers', 'I', 'would', 'think', 'you', 'd', 'keep', 'more', 'to', 'yourself', 'Unlike', 'the', 'comments', 'of', 'many', 'the', 'plot', 'is', 'actually', 'quite', 'EASY', 'to', 'follow', 'while', 'maintaining', 'a', 'quick', 'pace', 'that', 'adds', 'a', 'sense', 'of', 'urgency', 'Anyone', 'that', 'cannot', 'keep', 'track', 'of', 'the', 'different', 'characters', 'simply', 'must', 'not', 'be', 'paying', 'attention', 'since', 'or', 'are', 'used', 'to', 'such', 'levels', 'of', 'sophistication', 'as', 'the', 'titanic', 'The', 'plot', 'is', 'engaging', 'and', 'layered', 'with', 'themes', 'so', 'epic', 'that', 'they', 'will', 'leave', 'you', 'gasping', 'for', 'air', 'Legend', 'of', 'Zu', 'is', 'on', 'a', 'level', 'of', 'greatness', 'so', 'high', 'that', 'perhaps', 'many', 'people', 'are', 'put', 'off', 'by', 'its', 'grandeur', 'Allow', 'yourself', 'to', 'be', 'completely', 'engulfed', 'within', 'its', 'fantastical', 'vision', 'and', 'you', 'will', 'grow', 'to', 'love', 'this', 'movie']\n",
      "['I', 'think', 'that', 'the', 'movie', 'was', 'kind', 'of', 'weird', 'In', 'the', 'opening', 'scene', 'a', 'person', 'is', 'killed', 'for', 'no', 'reason', 'He', 'doesn', 't', 'get', 'mentioned', 'again', 'The', 'special', 'effects', 'could', 'have', 'also', 'be', 'better', 'but', 'i', 'enjoyed', 'watching', 'an', 'older', 'horror', 'movie', 'It', 'isn', 't', 'the', 'best', 'example', 'of', 'a', 'classic', 'horror', 'movie', 'but', 'it', 'still', 'was', 'an', 'alright', 'movie', 'I', 'give', 'it', 'about', 'a', '5', 'out', 'of', '10', 'of', 'the', 'scale']\n",
      "['The', 'premise', 'sucked', 'me', 'in', 'but', 'it', 'was', 'clear', 'about', '30', 'seconds', 'in', 'that', 'this', 'was', 'either', 'David', 'Lynch', 'or', 'something', 'seriously', 'terrible', 'Interesting', 'to', 'watch', 'just', 'to', 'run', 'through', 'the', 'fundamentalist', 'laundry', 'list', 'I', 'can', 'be', 'a', 'sucker', 'for', 'a', 'stirring', 'spiritual', 'piece', 'Romero', 'comes', 'to', 'mind', 'but', 'there', 'was', 'nothing', 'spiritual', 'whatsoever', 'about', 'this', 'one', 'The', 'message', 'seems', 'to', 'be', 'that', 'we', 'must', 'all', 'pretend', 'we', 'have', 'an', 'iq', 'of', '80', 'or', 'simply', 'get', 'a', 'lobotomy', 'Jennifer', 'what', 'happened', 'to', 'ya', 'and', 'blindly', 'follow', 'the', 'Bible', 'without', 'any', 'sort', 'of', 'self', 'examination', 'whatsoever', 'or', 'we', 'll', 'trigger', 'the', 'second', 'coming', 'It', 's', 'the', 'kind', 'of', 'attitude', 'that', 'makes', 'people', 'fly', 'jumbo', 'jets', 'into', '110', 'story', 'buildings', 'I', 'work', 'around', 'the', 'corner', 'from', 'the', 'site', 'of', 'the', 'former', 'WTC', 'I', 'like', 'to', 'think', 'that', 'God', 'is', 'a', 'little', 'greater', 'than', 'that']\n"
     ]
    },
    {
     "ename": "KeyboardInterrupt",
     "evalue": "",
     "output_type": "error",
     "traceback": [
      "\u001b[0;31m---------------------------------------------------------------------------\u001b[0m",
      "\u001b[0;31mKeyboardInterrupt\u001b[0m                         Traceback (most recent call last)",
      "\u001b[0;32m<ipython-input-59-1a183d364c00>\u001b[0m in \u001b[0;36m<module>\u001b[0;34m()\u001b[0m\n\u001b[1;32m     41\u001b[0m \u001b[0;31m# Preprocess data\u001b[0m\u001b[0;34m\u001b[0m\u001b[0;34m\u001b[0m\u001b[0m\n\u001b[1;32m     42\u001b[0m words_train, words_test, labels_train, labels_test = preprocess_data(\n\u001b[0;32m---> 43\u001b[0;31m         data_train, data_test, labels_train, labels_test)\n\u001b[0m\u001b[1;32m     44\u001b[0m \u001b[0;34m\u001b[0m\u001b[0m\n\u001b[1;32m     45\u001b[0m \u001b[0;31m# Take a look at a sample\u001b[0m\u001b[0;34m\u001b[0m\u001b[0;34m\u001b[0m\u001b[0m\n",
      "\u001b[0;32m<ipython-input-59-1a183d364c00>\u001b[0m in \u001b[0;36mpreprocess_data\u001b[0;34m(data_train, data_test, labels_train, labels_test, cache_dir, cache_file)\u001b[0m\n\u001b[1;32m     21\u001b[0m     \u001b[0;32mif\u001b[0m \u001b[0mcache_data\u001b[0m \u001b[0;32mis\u001b[0m \u001b[0;32mNone\u001b[0m\u001b[0;34m:\u001b[0m\u001b[0;34m\u001b[0m\u001b[0m\n\u001b[1;32m     22\u001b[0m         \u001b[0;31m# Preprocess training and test data to obtain words for each review\u001b[0m\u001b[0;34m\u001b[0m\u001b[0;34m\u001b[0m\u001b[0m\n\u001b[0;32m---> 23\u001b[0;31m         \u001b[0mwords_train\u001b[0m \u001b[0;34m=\u001b[0m \u001b[0mlist\u001b[0m\u001b[0;34m(\u001b[0m\u001b[0mmap\u001b[0m\u001b[0;34m(\u001b[0m\u001b[0mreview_to_words\u001b[0m\u001b[0;34m,\u001b[0m \u001b[0mdata_train\u001b[0m\u001b[0;34m)\u001b[0m\u001b[0;34m)\u001b[0m\u001b[0;34m\u001b[0m\u001b[0m\n\u001b[0m\u001b[1;32m     24\u001b[0m         \u001b[0mwords_test\u001b[0m \u001b[0;34m=\u001b[0m \u001b[0mlist\u001b[0m\u001b[0;34m(\u001b[0m\u001b[0mmap\u001b[0m\u001b[0;34m(\u001b[0m\u001b[0mreview_to_words\u001b[0m\u001b[0;34m,\u001b[0m \u001b[0mdata_test\u001b[0m\u001b[0;34m)\u001b[0m\u001b[0;34m)\u001b[0m\u001b[0;34m\u001b[0m\u001b[0m\n\u001b[1;32m     25\u001b[0m \u001b[0;34m\u001b[0m\u001b[0m\n",
      "\u001b[0;32m<ipython-input-57-027f11de2de7>\u001b[0m in \u001b[0;36mreview_to_words\u001b[0;34m(review)\u001b[0m\n\u001b[1;32m     12\u001b[0m     \u001b[0mwords\u001b[0m \u001b[0;34m=\u001b[0m \u001b[0mtokenizer\u001b[0m\u001b[0;34m.\u001b[0m\u001b[0mtokenize\u001b[0m\u001b[0;34m(\u001b[0m\u001b[0mtext\u001b[0m\u001b[0;34m)\u001b[0m\u001b[0;34m\u001b[0m\u001b[0m\n\u001b[1;32m     13\u001b[0m     \u001b[0mprint\u001b[0m\u001b[0;34m(\u001b[0m\u001b[0mwords\u001b[0m\u001b[0;34m)\u001b[0m\u001b[0;34m\u001b[0m\u001b[0m\n\u001b[0;32m---> 14\u001b[0;31m     \u001b[0mstems\u001b[0m \u001b[0;34m=\u001b[0m \u001b[0;34m[\u001b[0m\u001b[0mstemmer\u001b[0m\u001b[0;34m.\u001b[0m\u001b[0mstem\u001b[0m\u001b[0;34m(\u001b[0m\u001b[0mw\u001b[0m\u001b[0;34m)\u001b[0m \u001b[0;32mfor\u001b[0m \u001b[0mw\u001b[0m \u001b[0;32min\u001b[0m \u001b[0mwords\u001b[0m \u001b[0;32mif\u001b[0m \u001b[0mw\u001b[0m \u001b[0;32mnot\u001b[0m \u001b[0;32min\u001b[0m \u001b[0mstopwords\u001b[0m\u001b[0;34m.\u001b[0m\u001b[0mwords\u001b[0m\u001b[0;34m(\u001b[0m\u001b[0;34m)\u001b[0m\u001b[0;34m]\u001b[0m\u001b[0;34m\u001b[0m\u001b[0m\n\u001b[0m\u001b[1;32m     15\u001b[0m     \u001b[0;32mreturn\u001b[0m \u001b[0mstems\u001b[0m\u001b[0;34m\u001b[0m\u001b[0m\n\u001b[1;32m     16\u001b[0m \u001b[0;34m\u001b[0m\u001b[0m\n",
      "\u001b[0;32m<ipython-input-57-027f11de2de7>\u001b[0m in \u001b[0;36m<listcomp>\u001b[0;34m(.0)\u001b[0m\n\u001b[1;32m     12\u001b[0m     \u001b[0mwords\u001b[0m \u001b[0;34m=\u001b[0m \u001b[0mtokenizer\u001b[0m\u001b[0;34m.\u001b[0m\u001b[0mtokenize\u001b[0m\u001b[0;34m(\u001b[0m\u001b[0mtext\u001b[0m\u001b[0;34m)\u001b[0m\u001b[0;34m\u001b[0m\u001b[0m\n\u001b[1;32m     13\u001b[0m     \u001b[0mprint\u001b[0m\u001b[0;34m(\u001b[0m\u001b[0mwords\u001b[0m\u001b[0;34m)\u001b[0m\u001b[0;34m\u001b[0m\u001b[0m\n\u001b[0;32m---> 14\u001b[0;31m     \u001b[0mstems\u001b[0m \u001b[0;34m=\u001b[0m \u001b[0;34m[\u001b[0m\u001b[0mstemmer\u001b[0m\u001b[0;34m.\u001b[0m\u001b[0mstem\u001b[0m\u001b[0;34m(\u001b[0m\u001b[0mw\u001b[0m\u001b[0;34m)\u001b[0m \u001b[0;32mfor\u001b[0m \u001b[0mw\u001b[0m \u001b[0;32min\u001b[0m \u001b[0mwords\u001b[0m \u001b[0;32mif\u001b[0m \u001b[0mw\u001b[0m \u001b[0;32mnot\u001b[0m \u001b[0;32min\u001b[0m \u001b[0mstopwords\u001b[0m\u001b[0;34m.\u001b[0m\u001b[0mwords\u001b[0m\u001b[0;34m(\u001b[0m\u001b[0;34m)\u001b[0m\u001b[0;34m]\u001b[0m\u001b[0;34m\u001b[0m\u001b[0m\n\u001b[0m\u001b[1;32m     15\u001b[0m     \u001b[0;32mreturn\u001b[0m \u001b[0mstems\u001b[0m\u001b[0;34m\u001b[0m\u001b[0m\n\u001b[1;32m     16\u001b[0m \u001b[0;34m\u001b[0m\u001b[0m\n",
      "\u001b[0;32m~/miniconda3/lib/python3.6/site-packages/nltk/corpus/reader/wordlist.py\u001b[0m in \u001b[0;36mwords\u001b[0;34m(self, fileids, ignore_lines_startswith)\u001b[0m\n\u001b[1;32m     20\u001b[0m     \"\"\"\n\u001b[1;32m     21\u001b[0m     \u001b[0;32mdef\u001b[0m \u001b[0mwords\u001b[0m\u001b[0;34m(\u001b[0m\u001b[0mself\u001b[0m\u001b[0;34m,\u001b[0m \u001b[0mfileids\u001b[0m\u001b[0;34m=\u001b[0m\u001b[0;32mNone\u001b[0m\u001b[0;34m,\u001b[0m \u001b[0mignore_lines_startswith\u001b[0m\u001b[0;34m=\u001b[0m\u001b[0;34m'\\n'\u001b[0m\u001b[0;34m)\u001b[0m\u001b[0;34m:\u001b[0m\u001b[0;34m\u001b[0m\u001b[0m\n\u001b[0;32m---> 22\u001b[0;31m         return [line for line in line_tokenize(self.raw(fileids))\n\u001b[0m\u001b[1;32m     23\u001b[0m                 if not line.startswith(ignore_lines_startswith)]\n\u001b[1;32m     24\u001b[0m \u001b[0;34m\u001b[0m\u001b[0m\n",
      "\u001b[0;32m~/miniconda3/lib/python3.6/site-packages/nltk/tokenize/simple.py\u001b[0m in \u001b[0;36mline_tokenize\u001b[0;34m(text, blanklines)\u001b[0m\n\u001b[1;32m    131\u001b[0m \u001b[0;34m\u001b[0m\u001b[0m\n\u001b[1;32m    132\u001b[0m \u001b[0;32mdef\u001b[0m \u001b[0mline_tokenize\u001b[0m\u001b[0;34m(\u001b[0m\u001b[0mtext\u001b[0m\u001b[0;34m,\u001b[0m \u001b[0mblanklines\u001b[0m\u001b[0;34m=\u001b[0m\u001b[0;34m'discard'\u001b[0m\u001b[0;34m)\u001b[0m\u001b[0;34m:\u001b[0m\u001b[0;34m\u001b[0m\u001b[0m\n\u001b[0;32m--> 133\u001b[0;31m     \u001b[0;32mreturn\u001b[0m \u001b[0mLineTokenizer\u001b[0m\u001b[0;34m(\u001b[0m\u001b[0mblanklines\u001b[0m\u001b[0;34m)\u001b[0m\u001b[0;34m.\u001b[0m\u001b[0mtokenize\u001b[0m\u001b[0;34m(\u001b[0m\u001b[0mtext\u001b[0m\u001b[0;34m)\u001b[0m\u001b[0;34m\u001b[0m\u001b[0m\n\u001b[0m\u001b[1;32m    134\u001b[0m \u001b[0;34m\u001b[0m\u001b[0m\n\u001b[1;32m    135\u001b[0m \u001b[0;34m\u001b[0m\u001b[0m\n",
      "\u001b[0;32m~/miniconda3/lib/python3.6/site-packages/nltk/tokenize/simple.py\u001b[0m in \u001b[0;36mtokenize\u001b[0;34m(self, s)\u001b[0m\n\u001b[1;32m    110\u001b[0m         \u001b[0;31m# If requested, strip off blank lines.\u001b[0m\u001b[0;34m\u001b[0m\u001b[0;34m\u001b[0m\u001b[0m\n\u001b[1;32m    111\u001b[0m         \u001b[0;32mif\u001b[0m \u001b[0mself\u001b[0m\u001b[0;34m.\u001b[0m\u001b[0m_blanklines\u001b[0m \u001b[0;34m==\u001b[0m \u001b[0;34m'discard'\u001b[0m\u001b[0;34m:\u001b[0m\u001b[0;34m\u001b[0m\u001b[0m\n\u001b[0;32m--> 112\u001b[0;31m             \u001b[0mlines\u001b[0m \u001b[0;34m=\u001b[0m \u001b[0;34m[\u001b[0m\u001b[0ml\u001b[0m \u001b[0;32mfor\u001b[0m \u001b[0ml\u001b[0m \u001b[0;32min\u001b[0m \u001b[0mlines\u001b[0m \u001b[0;32mif\u001b[0m \u001b[0ml\u001b[0m\u001b[0;34m.\u001b[0m\u001b[0mrstrip\u001b[0m\u001b[0;34m(\u001b[0m\u001b[0;34m)\u001b[0m\u001b[0;34m]\u001b[0m\u001b[0;34m\u001b[0m\u001b[0m\n\u001b[0m\u001b[1;32m    113\u001b[0m         \u001b[0;32melif\u001b[0m \u001b[0mself\u001b[0m\u001b[0;34m.\u001b[0m\u001b[0m_blanklines\u001b[0m \u001b[0;34m==\u001b[0m \u001b[0;34m'discard-eof'\u001b[0m\u001b[0;34m:\u001b[0m\u001b[0;34m\u001b[0m\u001b[0m\n\u001b[1;32m    114\u001b[0m             \u001b[0;32mif\u001b[0m \u001b[0mlines\u001b[0m \u001b[0;32mand\u001b[0m \u001b[0;32mnot\u001b[0m \u001b[0mlines\u001b[0m\u001b[0;34m[\u001b[0m\u001b[0;34m-\u001b[0m\u001b[0;36m1\u001b[0m\u001b[0;34m]\u001b[0m\u001b[0;34m.\u001b[0m\u001b[0mstrip\u001b[0m\u001b[0;34m(\u001b[0m\u001b[0;34m)\u001b[0m\u001b[0;34m:\u001b[0m\u001b[0;34m\u001b[0m\u001b[0m\n",
      "\u001b[0;32m~/miniconda3/lib/python3.6/site-packages/nltk/tokenize/simple.py\u001b[0m in \u001b[0;36m<listcomp>\u001b[0;34m(.0)\u001b[0m\n\u001b[1;32m    110\u001b[0m         \u001b[0;31m# If requested, strip off blank lines.\u001b[0m\u001b[0;34m\u001b[0m\u001b[0;34m\u001b[0m\u001b[0m\n\u001b[1;32m    111\u001b[0m         \u001b[0;32mif\u001b[0m \u001b[0mself\u001b[0m\u001b[0;34m.\u001b[0m\u001b[0m_blanklines\u001b[0m \u001b[0;34m==\u001b[0m \u001b[0;34m'discard'\u001b[0m\u001b[0;34m:\u001b[0m\u001b[0;34m\u001b[0m\u001b[0m\n\u001b[0;32m--> 112\u001b[0;31m             \u001b[0mlines\u001b[0m \u001b[0;34m=\u001b[0m \u001b[0;34m[\u001b[0m\u001b[0ml\u001b[0m \u001b[0;32mfor\u001b[0m \u001b[0ml\u001b[0m \u001b[0;32min\u001b[0m \u001b[0mlines\u001b[0m \u001b[0;32mif\u001b[0m \u001b[0ml\u001b[0m\u001b[0;34m.\u001b[0m\u001b[0mrstrip\u001b[0m\u001b[0;34m(\u001b[0m\u001b[0;34m)\u001b[0m\u001b[0;34m]\u001b[0m\u001b[0;34m\u001b[0m\u001b[0m\n\u001b[0m\u001b[1;32m    113\u001b[0m         \u001b[0;32melif\u001b[0m \u001b[0mself\u001b[0m\u001b[0;34m.\u001b[0m\u001b[0m_blanklines\u001b[0m \u001b[0;34m==\u001b[0m \u001b[0;34m'discard-eof'\u001b[0m\u001b[0;34m:\u001b[0m\u001b[0;34m\u001b[0m\u001b[0m\n\u001b[1;32m    114\u001b[0m             \u001b[0;32mif\u001b[0m \u001b[0mlines\u001b[0m \u001b[0;32mand\u001b[0m \u001b[0;32mnot\u001b[0m \u001b[0mlines\u001b[0m\u001b[0;34m[\u001b[0m\u001b[0;34m-\u001b[0m\u001b[0;36m1\u001b[0m\u001b[0;34m]\u001b[0m\u001b[0;34m.\u001b[0m\u001b[0mstrip\u001b[0m\u001b[0;34m(\u001b[0m\u001b[0;34m)\u001b[0m\u001b[0;34m:\u001b[0m\u001b[0;34m\u001b[0m\u001b[0m\n",
      "\u001b[0;31mKeyboardInterrupt\u001b[0m: "
     ]
    }
   ],
   "source": [
    "import pickle\n",
    "\n",
    "cache_dir = os.path.join(\"cache\", \"sentiment_analysis\")  # where to store cache files\n",
    "os.makedirs(cache_dir, exist_ok=True)  # ensure cache directory exists\n",
    "\n",
    "def preprocess_data(data_train, data_test, labels_train, labels_test,\n",
    "                    cache_dir=cache_dir, cache_file=\"preprocessed_data.pkl\"):\n",
    "    \"\"\"Convert each review to words; read from cache if available.\"\"\"\n",
    "\n",
    "    # If cache_file is not None, try to read from it first\n",
    "    cache_data = None\n",
    "    if cache_file is not None:\n",
    "        try:\n",
    "            with open(os.path.join(cache_dir, cache_file), \"rb\") as f:\n",
    "                cache_data = pickle.load(f)\n",
    "            print(\"Read preprocessed data from cache file:\", cache_file)\n",
    "        except:\n",
    "            pass  # unable to read from cache, but that's okay\n",
    "    \n",
    "    # If cache is missing, then do the heavy lifting\n",
    "    if cache_data is None:\n",
    "        # Preprocess training and test data to obtain words for each review\n",
    "        words_train = list(map(review_to_words, data_train))\n",
    "        words_test = list(map(review_to_words, data_test))\n",
    "        \n",
    "        # Write to cache file for future runs\n",
    "        if cache_file is not None:\n",
    "            cache_data = dict(words_train=words_train, words_test=words_test,\n",
    "                              labels_train=labels_train, labels_test=labels_test)\n",
    "            with open(os.path.join(cache_dir, cache_file), \"wb\") as f:\n",
    "                pickle.dump(cache_data, f)\n",
    "            print(\"Wrote preprocessed data to cache file:\", cache_file)\n",
    "    else:\n",
    "        # Unpack data loaded from cache file\n",
    "        words_train, words_test, labels_train, labels_test = (cache_data['words_train'],\n",
    "                cache_data['words_test'], cache_data['labels_train'], cache_data['labels_test'])\n",
    "    \n",
    "    return words_train, words_test, labels_train, labels_test\n",
    "\n",
    "\n",
    "# Preprocess data\n",
    "words_train, words_test, labels_train, labels_test = preprocess_data(\n",
    "        data_train, data_test, labels_train, labels_test)\n",
    "\n",
    "# Take a look at a sample\n",
    "print(\"\\n--- Raw review ---\")\n",
    "print(data_train[1])\n",
    "print(\"\\n--- Preprocessed words ---\")\n",
    "print(words_train[1])\n",
    "print(\"\\n--- Label ---\")\n",
    "print(labels_train[1])"
   ]
  },
  {
   "cell_type": "markdown",
   "metadata": {},
   "source": [
    "## Step 3: Extracting Bag-of-Words features\n",
    "\n",
    "Now that each document has been preprocessed, we can transform each into a Bag-of-Words feature representation. Note that we need to create this transformation based on the training data alone, as we are not allowed to peek at the testing data at all!\n",
    "\n",
    "The dictionary or _vocabulary_ $V$ (set of words shared by documents in the training set) used here will be the one on which we train our supervised learning algorithm. Any future test data must be transformed in the same way for us to be able to apply the learned model for prediction. Hence, it is important to store the transformation / vocabulary as well.\n",
    "\n",
    "> **Note**: The set of words in the training set may not be exactly the same as the test set. What do you do if you encounter a word during testing that you haven't seen before? Unfortunately, we'll have to ignore it, or replace it with a special `<UNK>` token.\n",
    "\n",
    "### TODO: Compute Bag-of-Words features\n",
    "\n",
    "Implement the `extract_BoW_features()` function, apply it to both training and test datasets, and store the results in `features_train` and `features_test` NumPy arrays, respectively. Choose a reasonable vocabulary size, say $|V| = 5000$, and keep only the top $|V|$ occuring words and discard the rest. This number will also serve as the number of columns in the BoW matrices.\n",
    "\n",
    "> **Hint**: You may find it useful to take advantage of `CountVectorizer` from scikit-learn. Also make sure to pickle your Bag-of-Words transformation so that you can use it in future."
   ]
  },
  {
   "cell_type": "code",
   "execution_count": null,
   "metadata": {},
   "outputs": [],
   "source": [
    "import numpy as np\n",
    "from sklearn.feature_extraction.text import CountVectorizer\n",
    "from sklearn.externals import joblib\n",
    "# joblib is an enhanced version of pickle that is more efficient for storing NumPy arrays\n",
    "\n",
    "def extract_BoW_features(words_train, words_test, vocabulary_size=5000,\n",
    "                         cache_dir=cache_dir, cache_file=\"bow_features.pkl\"):\n",
    "    \"\"\"Extract Bag-of-Words for a given set of documents, already preprocessed into words.\"\"\"\n",
    "    \n",
    "    # If cache_file is not None, try to read from it first\n",
    "    cache_data = None\n",
    "    if cache_file is not None:\n",
    "        try:\n",
    "            with open(os.path.join(cache_dir, cache_file), \"rb\") as f:\n",
    "                cache_data = joblib.load(f)\n",
    "            print(\"Read features from cache file:\", cache_file)\n",
    "        except:\n",
    "            pass  # unable to read from cache, but that's okay\n",
    "    \n",
    "    # If cache is missing, then do the heavy lifting\n",
    "    if cache_data is None:\n",
    "        # TODO: Fit a vectorizer to training documents and use it to transform them\n",
    "        # NOTE: Training documents have already been preprocessed and tokenized into words;\n",
    "        #       pass in dummy functions to skip those steps, e.g. preprocessor=lambda x: x\n",
    "        vectorizer = ?\n",
    "        features_train = ?\n",
    "\n",
    "        # TODO: Apply the same vectorizer to transform the test documents (ignore unknown words)\n",
    "        features_test = ?\n",
    "        \n",
    "        # NOTE: Remember to convert the features using .toarray() for a compact representation\n",
    "        \n",
    "        # Write to cache file for future runs (store vocabulary as well)\n",
    "        if cache_file is not None:\n",
    "            vocabulary = vectorizer.vocabulary_\n",
    "            cache_data = dict(features_train=features_train, features_test=features_test,\n",
    "                             vocabulary=vocabulary)\n",
    "            with open(os.path.join(cache_dir, cache_file), \"wb\") as f:\n",
    "                joblib.dump(cache_data, f)\n",
    "            print(\"Wrote features to cache file:\", cache_file)\n",
    "    else:\n",
    "        # Unpack data loaded from cache file\n",
    "        features_train, features_test, vocabulary = (cache_data['features_train'],\n",
    "                cache_data['features_test'], cache_data['vocabulary'])\n",
    "    \n",
    "    # Return both the extracted features as well as the vocabulary\n",
    "    return features_train, features_test, vocabulary\n",
    "\n",
    "\n",
    "# Extract Bag of Words features for both training and test datasets\n",
    "features_train, features_test, vocabulary = extract_BoW_features(words_train, words_test)\n",
    "\n",
    "# Inspect the vocabulary that was computed\n",
    "print(\"Vocabulary: {} words\".format(len(vocabulary)))\n",
    "\n",
    "import random\n",
    "print(\"Sample words: {}\".format(random.sample(list(vocabulary.keys()), 8)))\n",
    "\n",
    "# Sample\n",
    "print(\"\\n--- Preprocessed words ---\")\n",
    "print(words_train[5])\n",
    "print(\"\\n--- Bag-of-Words features ---\")\n",
    "print(features_train[5])\n",
    "print(\"\\n--- Label ---\")\n",
    "print(labels_train[5])"
   ]
  },
  {
   "cell_type": "markdown",
   "metadata": {},
   "source": [
    "Let's try to visualize the Bag-of-Words feature vector for one of our training documents."
   ]
  },
  {
   "cell_type": "code",
   "execution_count": null,
   "metadata": {},
   "outputs": [],
   "source": [
    "# Plot the BoW feature vector for a training document\n",
    "plt.plot(features_train[5,:])\n",
    "plt.xlabel('Word')\n",
    "plt.ylabel('Count')\n",
    "plt.show()"
   ]
  },
  {
   "cell_type": "markdown",
   "metadata": {},
   "source": [
    "#### Question: Reflecting on Bag-of-Words feature representation\n",
    "\n",
    "What is the average sparsity level of BoW vectors in our training set? In other words, on average what percentage of entries in a BoW feature vector are zero?\n",
    "\n",
    "#### Answer:\n",
    "\n",
    "...\n",
    "\n",
    "### Zipf's law\n",
    "\n",
    "[Zipf's law](https://en.wikipedia.org/wiki/Zipf%27s_law), named after the famous American linguist George Zipf, is an empirical law stating that given a large collection of documents, the frequency of any word is inversely proportional to its rank in the frequency table. So the most frequent word will occur about twice as often as the second most frequent word, three times as often as the third most frequent word, and so on. In the figure below we plot number of appearances of each word in our training set against its rank."
   ]
  },
  {
   "cell_type": "code",
   "execution_count": null,
   "metadata": {},
   "outputs": [],
   "source": [
    "# Find number of occurrences for each word in the training set\n",
    "word_freq = features_train.sum(axis=0)\n",
    "\n",
    "# Sort it in descending order\n",
    "sorted_word_freq = np.sort(word_freq)[::-1]\n",
    "\n",
    "# Plot \n",
    "plt.plot(sorted_word_freq)\n",
    "plt.gca().set_xscale('log')\n",
    "plt.gca().set_yscale('log')\n",
    "plt.xlabel('Rank')\n",
    "plt.ylabel('Number of occurrences')\n",
    "plt.show()"
   ]
  },
  {
   "cell_type": "markdown",
   "metadata": {},
   "source": [
    "#### Question: Zipf's law\n",
    "\n",
    "What is the total number of occurrences of the most frequent word? What is the the total number of occurrences of the second most frequent word? Do your numbers follow  Zipf's law? If not, why?\n",
    "\n",
    "#### Answer:\n",
    "\n",
    "...\n",
    "\n",
    "### TODO: Normalize feature vectors\n",
    "\n",
    "Bag-of-Words features are intuitive to understand as they are simply word counts. But counts can vary a lot, and potentially throw off learning algorithms later in the pipeline. So, before we proceed further, let's normalize the BoW feature vectors to have unit length.\n",
    "\n",
    "This makes sure that each document's representation retains the unique mixture of feature components, but prevents documents with large word counts from dominating those with fewer words."
   ]
  },
  {
   "cell_type": "code",
   "execution_count": null,
   "metadata": {},
   "outputs": [],
   "source": [
    "import sklearn.preprocessing as pr\n",
    "\n",
    "# TODO: Normalize BoW features in training and test set\n"
   ]
  },
  {
   "cell_type": "markdown",
   "metadata": {},
   "source": [
    "## Step 4: Classification using BoW features\n",
    "\n",
    "Now that the data has all been properly transformed, we can feed it into a classifier. To get a baseline model, we train a Naive Bayes classifier from scikit-learn (specifically, [`GaussianNB`](http://scikit-learn.org/stable/modules/generated/sklearn.naive_bayes.GaussianNB.html)), and evaluate its accuracy on the test set."
   ]
  },
  {
   "cell_type": "code",
   "execution_count": null,
   "metadata": {},
   "outputs": [],
   "source": [
    "from sklearn.naive_bayes import GaussianNB\n",
    "\n",
    "# TODO: Train a Guassian Naive Bayes classifier\n",
    "clf1 = ?\n",
    "\n",
    "# Calculate the mean accuracy score on training and test sets\n",
    "print(\"[{}] Accuracy: train = {}, test = {}\".format(\n",
    "        clf1.__class__.__name__,\n",
    "        clf1.score(features_train, labels_train),\n",
    "        clf1.score(features_test, labels_test)))"
   ]
  },
  {
   "cell_type": "markdown",
   "metadata": {},
   "source": [
    "Tree-based algorithms often work quite well on Bag-of-Words as their highly discontinuous and sparse nature is nicely matched by the structure of trees. As your next task, you will try to improve on the Naive Bayes classifier's performance by using scikit-learn's Gradient-Boosted Decision Tree classifer.\n",
    "\n",
    "### TODO: Gradient-Boosted Decision Tree classifier\n",
    "\n",
    "Use [`GradientBoostingClassifier`](http://scikit-learn.org/stable/modules/generated/sklearn.ensemble.GradientBoostingClassifier.html) from scikit-learn to classify the BoW data. This model has a number of parameters. We use default parameters for some of them and pre-set the rest for you, except one: `n_estimators`. Find a proper value for this hyperparameter, use it to classify the data, and report how much improvement you get over Naive Bayes in terms of accuracy.\n",
    "\n",
    "> **Tip**: Use a model selection technique such as cross-validation, grid-search, or an information criterion method, to find an optimal value for the hyperparameter."
   ]
  },
  {
   "cell_type": "code",
   "execution_count": null,
   "metadata": {
    "collapsed": true
   },
   "outputs": [],
   "source": [
    "from sklearn.ensemble import GradientBoostingClassifier\n",
    "\n",
    "n_estimators = ?\n",
    "\n",
    "def classify_gboost(X_train, X_test, y_train, y_test):        \n",
    "    # Initialize classifier\n",
    "    clf = GradientBoostingClassifier(n_estimators=n_estimators, learning_rate=1.0, max_depth=1, random_state=0)\n",
    "\n",
    "    # TODO: Classify the data using GradientBoostingClassifier\n",
    "    \n",
    "    # TODO(optional): Perform hyperparameter tuning / model selection\n",
    "    \n",
    "    # TODO: Print final training & test accuracy\n",
    "    \n",
    "    # Return best classifier model\n",
    "    return clf\n",
    "\n",
    "\n",
    "clf2 = classify_gboost(features_train, features_test, labels_train, labels_test)"
   ]
  },
  {
   "cell_type": "markdown",
   "metadata": {},
   "source": [
    "### TODO: Adverserial testing\n",
    "\n",
    "Write a short movie review to trick your machine learning model! That is, a movie review with a clear positive or negative sentiment that your model will classify incorrectly.\n",
    "\n",
    "> **Hint**: You might want to take advantage of the biggest weakness of the Bag-of-Words scheme!"
   ]
  },
  {
   "cell_type": "code",
   "execution_count": null,
   "metadata": {
    "collapsed": true
   },
   "outputs": [],
   "source": [
    "# TODO: Write a sample review and set its true sentiment\n",
    "my_review = \"...\"\n",
    "true_sentiment = ''  # sentiment must be 'pos' or 'neg'\n",
    "\n",
    "# TODO: Apply the same preprocessing and vectorizing steps as you did for your training data\n",
    "\n",
    "# TODO: Then call your classifier to label it\n"
   ]
  },
  {
   "cell_type": "markdown",
   "metadata": {},
   "source": [
    "## Step 5: Switching gears - RNNs\n",
    "\n",
    "We just saw how the task of sentiment analysis can be solved via a traditional machine learning approach: BoW + a nonlinear classifier. We now switch gears and use Recurrent Neural Networks, and in particular LSTMs, to perform sentiment analysis in Keras. Conveniently, Keras has a built-in [IMDb movie reviews dataset](https://keras.io/datasets/#imdb-movie-reviews-sentiment-classification) that we can use, with the same vocabulary size."
   ]
  },
  {
   "cell_type": "code",
   "execution_count": null,
   "metadata": {},
   "outputs": [],
   "source": [
    "from keras.datasets import imdb  # import the built-in imdb dataset in Keras\n",
    "\n",
    "# Set the vocabulary size\n",
    "vocabulary_size = 5000\n",
    "\n",
    "# Load in training and test data (note the difference in convention compared to scikit-learn)\n",
    "(X_train, y_train), (X_test, y_test) = imdb.load_data(num_words=vocabulary_size)\n",
    "print(\"Loaded dataset with {} training samples, {} test samples\".format(len(X_train), len(X_test)))"
   ]
  },
  {
   "cell_type": "code",
   "execution_count": null,
   "metadata": {},
   "outputs": [],
   "source": [
    "# Inspect a sample review and its label\n",
    "print(\"--- Review ---\")\n",
    "print(X_train[7])\n",
    "print(\"--- Label ---\")\n",
    "print(y_train[7])"
   ]
  },
  {
   "cell_type": "markdown",
   "metadata": {},
   "source": [
    "Notice that the label is an integer (0 for negative, 1 for positive), and the review itself is stored as a sequence of integers. These are word IDs that have been preassigned to individual words. To map them back to the original words, you can use the dictionary returned by `imdb.get_word_index()`."
   ]
  },
  {
   "cell_type": "code",
   "execution_count": null,
   "metadata": {},
   "outputs": [],
   "source": [
    "# Map word IDs back to words\n",
    "word2id = imdb.get_word_index()\n",
    "id2word = {i: word for word, i in word2id.items()}\n",
    "print(\"--- Review (with words) ---\")\n",
    "print([id2word.get(i, \" \") for i in X_train[7]])\n",
    "print(\"--- Label ---\")\n",
    "print(y_train[7])"
   ]
  },
  {
   "cell_type": "markdown",
   "metadata": {},
   "source": [
    "Unlike our Bag-of-Words approach, where we simply summarized the counts of each word in a document, this representation essentially retains the entire sequence of words (minus punctuation, stopwords, etc.). This is critical for RNNs to function. But it also means that now the features can be of different lengths!\n",
    "\n",
    "#### Question: Variable length reviews\n",
    "\n",
    "What is the maximum review length (in terms of number of words) in the training set? What is the minimum?\n",
    "\n",
    "#### Answer:\n",
    "\n",
    "...\n",
    "\n",
    "\n",
    "### TODO: Pad sequences\n",
    "\n",
    "In order to feed this data into your RNN, all input documents must have the same length. Let's limit the maximum review length to `max_words` by truncating longer reviews and padding shorter reviews with a null value (0). You can accomplish this easily using the [`pad_sequences()`](https://keras.io/preprocessing/sequence/#pad_sequences) function in Keras. For now, set `max_words` to 500."
   ]
  },
  {
   "cell_type": "code",
   "execution_count": null,
   "metadata": {
    "collapsed": true
   },
   "outputs": [],
   "source": [
    "from keras.preprocessing import sequence\n",
    "\n",
    "# Set the maximum number of words per document (for both training and testing)\n",
    "max_words = 500\n",
    "\n",
    "# TODO: Pad sequences in X_train and X_test\n"
   ]
  },
  {
   "cell_type": "markdown",
   "metadata": {},
   "source": [
    "### TODO: Design an RNN model for sentiment analysis\n",
    "\n",
    "Build your model architecture in the code cell below. We have imported some layers from Keras that you might need but feel free to use any other layers / transformations you like.\n",
    "\n",
    "Remember that your input is a sequence of words (technically, integer word IDs) of maximum length = `max_words`, and your output is a binary sentiment label (0 or 1)."
   ]
  },
  {
   "cell_type": "code",
   "execution_count": null,
   "metadata": {},
   "outputs": [],
   "source": [
    "from keras.models import Sequential\n",
    "from keras.layers import Embedding, LSTM, Dense, Dropout\n",
    "\n",
    "# TODO: Design your model\n",
    "model = ?\n",
    "\n",
    "print(model.summary())"
   ]
  },
  {
   "cell_type": "markdown",
   "metadata": {},
   "source": [
    "#### Question: Architecture and parameters\n",
    "\n",
    "Briefly describe your neural net architecture. How many model parameters does it have that need to be trained?\n",
    "\n",
    "#### Answer:\n",
    "\n",
    "...\n",
    "\n",
    "### TODO: Train and evaluate your model\n",
    "\n",
    "Now you are ready to train your model. In Keras world, you first need to _compile_ your model by specifying the loss function and optimizer you want to use while training, as well as any evaluation metrics you'd like to measure. Specify the approprate parameters, including at least one metric `'accuracy'`."
   ]
  },
  {
   "cell_type": "code",
   "execution_count": null,
   "metadata": {
    "collapsed": true
   },
   "outputs": [],
   "source": [
    "# TODO: Compile your model, specifying a loss function, optimizer, and metrics\n"
   ]
  },
  {
   "cell_type": "markdown",
   "metadata": {},
   "source": [
    "Once compiled, you can kick off the training process. There are two important training parameters that you have to specify - **batch size** and **number of training epochs**, which together with your model architecture determine the total training time.\n",
    "\n",
    "Training may take a while, so grab a cup of coffee, or better, go for a hike! If possible, consider using a GPU, as a single training run can take several hours on a CPU.\n",
    "\n",
    "> **Tip**: You can split off a small portion of the training set to be used for validation during training. This will help monitor the training process and identify potential overfitting. You can supply a validation set to `model.fit()` using its `validation_data` parameter, or just specify `validation_split` - a fraction of the training data for Keras to set aside for this purpose (typically 5-10%). Validation metrics are evaluated once at the end of each epoch."
   ]
  },
  {
   "cell_type": "code",
   "execution_count": null,
   "metadata": {
    "collapsed": true
   },
   "outputs": [],
   "source": [
    "# TODO: Specify training parameters: batch size and number of epochs\n",
    "batch_size = ?\n",
    "num_epochs = ?\n",
    "\n",
    "# TODO(optional): Reserve/specify some training data for validation (not to be used for training)\n",
    "\n",
    "# TODO: Train your model\n"
   ]
  },
  {
   "cell_type": "code",
   "execution_count": null,
   "metadata": {},
   "outputs": [],
   "source": [
    "# Save your model, so that you can quickly load it in future (and perhaps resume training)\n",
    "model_file = \"rnn_model.h5\"  # HDF5 file\n",
    "model.save(os.path.join(cache_dir, model_file))\n",
    "\n",
    "# Later you can load it using keras.models.load_model()\n",
    "#from keras.models import load_model\n",
    "#model = load_model(os.path.join(cache_dir, model_file))"
   ]
  },
  {
   "cell_type": "markdown",
   "metadata": {},
   "source": [
    "Once you have trained your model, it's time to see how well it performs on unseen test data."
   ]
  },
  {
   "cell_type": "code",
   "execution_count": null,
   "metadata": {},
   "outputs": [],
   "source": [
    "# Evaluate your model on the test set\n",
    "scores = model.evaluate(X_test, y_test, verbose=0)  # returns loss and other metrics specified in model.compile()\n",
    "print(\"Test accuracy:\", scores[1])  # scores[1] should correspond to accuracy if you passed in metrics=['accuracy']"
   ]
  },
  {
   "cell_type": "markdown",
   "metadata": {},
   "source": [
    "#### Question: Comparing RNNs and Traditional Methods\n",
    "\n",
    "How well does your RNN model perform compared to the BoW + Gradient-Boosted Decision Trees?\n",
    "\n",
    "#### Answer:\n",
    "\n",
    "...\n",
    "\n",
    "## Extensions\n",
    "\n",
    "There are several ways in which you can build upon this notebook. Each comes with its set of challenges, but can be a rewarding experience.\n",
    "\n",
    "- The first thing is to try and improve the accuracy of your model by experimenting with different architectures, layers and parameters. How good can you get without taking prohibitively long to train? How do you prevent overfitting?\n",
    "\n",
    "- Then, you may want to deploy your model as a mobile app or web service. What do you need to do in order to package your model for such deployment? How would you accept a new review, convert it into a form suitable for your model, and perform the actual prediction? (Note that the same environment you used during training may not be available.)\n",
    "\n",
    "- One simplification we made in this notebook is to limit the task to binary classification. The dataset actually includes a more fine-grained review rating that is indicated in each review's filename (which is of the form `<[id]_[rating].txt>` where `[id]` is a unique identifier and `[rating]` is on a scale of 1-10; note that neutral reviews > 4 or < 7 have been excluded). How would you modify the notebook to perform regression on the review ratings? In what situations is regression more useful than classification, and vice-versa?\n",
    "\n",
    "Whatever direction you take, make sure to share your results and learnings with your peers, through blogs, discussions and participating in online competitions. This is also a great way to become more visible to potential employers!"
   ]
  },
  {
   "cell_type": "code",
   "execution_count": null,
   "metadata": {
    "collapsed": true
   },
   "outputs": [],
   "source": []
  }
 ],
 "metadata": {
  "kernelspec": {
   "display_name": "Python 3",
   "language": "python",
   "name": "python3"
  },
  "language_info": {
   "codemirror_mode": {
    "name": "ipython",
    "version": 3
   },
   "file_extension": ".py",
   "mimetype": "text/x-python",
   "name": "python",
   "nbconvert_exporter": "python",
   "pygments_lexer": "ipython3",
   "version": "3.6.0"
  }
 },
 "nbformat": 4,
 "nbformat_minor": 2
}
